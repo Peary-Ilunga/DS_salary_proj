{
 "cells": [
  {
   "cell_type": "code",
   "execution_count": 1,
   "id": "2a9d92eb",
   "metadata": {},
   "outputs": [],
   "source": [
    "import pandas as pd\n"
   ]
  },
  {
   "cell_type": "code",
   "execution_count": 2,
   "id": "48a99121",
   "metadata": {},
   "outputs": [],
   "source": [
    "df=pd.read_csv('glassdoor_jobs.csv')"
   ]
  },
  {
   "cell_type": "code",
   "execution_count": 4,
   "id": "b22a7565",
   "metadata": {
    "scrolled": true
   },
   "outputs": [
    {
     "data": {
      "text/html": [
       "<div>\n",
       "<style scoped>\n",
       "    .dataframe tbody tr th:only-of-type {\n",
       "        vertical-align: middle;\n",
       "    }\n",
       "\n",
       "    .dataframe tbody tr th {\n",
       "        vertical-align: top;\n",
       "    }\n",
       "\n",
       "    .dataframe thead th {\n",
       "        text-align: right;\n",
       "    }\n",
       "</style>\n",
       "<table border=\"1\" class=\"dataframe\">\n",
       "  <thead>\n",
       "    <tr style=\"text-align: right;\">\n",
       "      <th></th>\n",
       "      <th>Unnamed: 0</th>\n",
       "      <th>Job Title</th>\n",
       "      <th>Salary Estimate</th>\n",
       "      <th>Job Description</th>\n",
       "      <th>Rating</th>\n",
       "      <th>Company Name</th>\n",
       "      <th>Location</th>\n",
       "      <th>Headquarters</th>\n",
       "      <th>Size</th>\n",
       "      <th>Founded</th>\n",
       "      <th>Type of ownership</th>\n",
       "      <th>Industry</th>\n",
       "      <th>Sector</th>\n",
       "      <th>Revenue</th>\n",
       "      <th>Competitors</th>\n",
       "    </tr>\n",
       "  </thead>\n",
       "  <tbody>\n",
       "    <tr>\n",
       "      <th>0</th>\n",
       "      <td>0</td>\n",
       "      <td>Data Scientist</td>\n",
       "      <td>$53K-$91K (Glassdoor est.)</td>\n",
       "      <td>Data Scientist\\nLocation: Albuquerque, NM\\nEdu...</td>\n",
       "      <td>3.8</td>\n",
       "      <td>Tecolote Research\\n3.8</td>\n",
       "      <td>Albuquerque, NM</td>\n",
       "      <td>Goleta, CA</td>\n",
       "      <td>501 to 1000 employees</td>\n",
       "      <td>1973</td>\n",
       "      <td>Company - Private</td>\n",
       "      <td>Aerospace &amp; Defense</td>\n",
       "      <td>Aerospace &amp; Defense</td>\n",
       "      <td>$50 to $100 million (USD)</td>\n",
       "      <td>-1</td>\n",
       "    </tr>\n",
       "    <tr>\n",
       "      <th>1</th>\n",
       "      <td>1</td>\n",
       "      <td>Healthcare Data Scientist</td>\n",
       "      <td>$63K-$112K (Glassdoor est.)</td>\n",
       "      <td>What You Will Do:\\n\\nI. General Summary\\n\\nThe...</td>\n",
       "      <td>3.4</td>\n",
       "      <td>University of Maryland Medical System\\n3.4</td>\n",
       "      <td>Linthicum, MD</td>\n",
       "      <td>Baltimore, MD</td>\n",
       "      <td>10000+ employees</td>\n",
       "      <td>1984</td>\n",
       "      <td>Other Organization</td>\n",
       "      <td>Health Care Services &amp; Hospitals</td>\n",
       "      <td>Health Care</td>\n",
       "      <td>$2 to $5 billion (USD)</td>\n",
       "      <td>-1</td>\n",
       "    </tr>\n",
       "    <tr>\n",
       "      <th>2</th>\n",
       "      <td>2</td>\n",
       "      <td>Data Scientist</td>\n",
       "      <td>$80K-$90K (Glassdoor est.)</td>\n",
       "      <td>KnowBe4, Inc. is a high growth information sec...</td>\n",
       "      <td>4.8</td>\n",
       "      <td>KnowBe4\\n4.8</td>\n",
       "      <td>Clearwater, FL</td>\n",
       "      <td>Clearwater, FL</td>\n",
       "      <td>501 to 1000 employees</td>\n",
       "      <td>2010</td>\n",
       "      <td>Company - Private</td>\n",
       "      <td>Security Services</td>\n",
       "      <td>Business Services</td>\n",
       "      <td>$100 to $500 million (USD)</td>\n",
       "      <td>-1</td>\n",
       "    </tr>\n",
       "    <tr>\n",
       "      <th>3</th>\n",
       "      <td>3</td>\n",
       "      <td>Data Scientist</td>\n",
       "      <td>$56K-$97K (Glassdoor est.)</td>\n",
       "      <td>*Organization and Job ID**\\nJob ID: 310709\\n\\n...</td>\n",
       "      <td>3.8</td>\n",
       "      <td>PNNL\\n3.8</td>\n",
       "      <td>Richland, WA</td>\n",
       "      <td>Richland, WA</td>\n",
       "      <td>1001 to 5000 employees</td>\n",
       "      <td>1965</td>\n",
       "      <td>Government</td>\n",
       "      <td>Energy</td>\n",
       "      <td>Oil, Gas, Energy &amp; Utilities</td>\n",
       "      <td>$500 million to $1 billion (USD)</td>\n",
       "      <td>Oak Ridge National Laboratory, National Renewa...</td>\n",
       "    </tr>\n",
       "    <tr>\n",
       "      <th>4</th>\n",
       "      <td>4</td>\n",
       "      <td>Data Scientist</td>\n",
       "      <td>$86K-$143K (Glassdoor est.)</td>\n",
       "      <td>Data Scientist\\nAffinity Solutions / Marketing...</td>\n",
       "      <td>2.9</td>\n",
       "      <td>Affinity Solutions\\n2.9</td>\n",
       "      <td>New York, NY</td>\n",
       "      <td>New York, NY</td>\n",
       "      <td>51 to 200 employees</td>\n",
       "      <td>1998</td>\n",
       "      <td>Company - Private</td>\n",
       "      <td>Advertising &amp; Marketing</td>\n",
       "      <td>Business Services</td>\n",
       "      <td>Unknown / Non-Applicable</td>\n",
       "      <td>Commerce Signals, Cardlytics, Yodlee</td>\n",
       "    </tr>\n",
       "    <tr>\n",
       "      <th>5</th>\n",
       "      <td>5</td>\n",
       "      <td>Data Scientist</td>\n",
       "      <td>$71K-$119K (Glassdoor est.)</td>\n",
       "      <td>CyrusOne is seeking a talented Data Scientist ...</td>\n",
       "      <td>3.4</td>\n",
       "      <td>CyrusOne\\n3.4</td>\n",
       "      <td>Dallas, TX</td>\n",
       "      <td>Dallas, TX</td>\n",
       "      <td>201 to 500 employees</td>\n",
       "      <td>2000</td>\n",
       "      <td>Company - Public</td>\n",
       "      <td>Real Estate</td>\n",
       "      <td>Real Estate</td>\n",
       "      <td>$1 to $2 billion (USD)</td>\n",
       "      <td>Digital Realty, CoreSite, Equinix</td>\n",
       "    </tr>\n",
       "    <tr>\n",
       "      <th>6</th>\n",
       "      <td>6</td>\n",
       "      <td>Data Scientist</td>\n",
       "      <td>$54K-$93K (Glassdoor est.)</td>\n",
       "      <td>Job Description\\n\\n**Please only local candida...</td>\n",
       "      <td>4.1</td>\n",
       "      <td>ClearOne Advantage\\n4.1</td>\n",
       "      <td>Baltimore, MD</td>\n",
       "      <td>Baltimore, MD</td>\n",
       "      <td>501 to 1000 employees</td>\n",
       "      <td>2008</td>\n",
       "      <td>Company - Private</td>\n",
       "      <td>Banks &amp; Credit Unions</td>\n",
       "      <td>Finance</td>\n",
       "      <td>Unknown / Non-Applicable</td>\n",
       "      <td>-1</td>\n",
       "    </tr>\n",
       "    <tr>\n",
       "      <th>7</th>\n",
       "      <td>7</td>\n",
       "      <td>Data Scientist</td>\n",
       "      <td>$86K-$142K (Glassdoor est.)</td>\n",
       "      <td>Advanced Analytics – Lead Data Scientist\\nOver...</td>\n",
       "      <td>3.8</td>\n",
       "      <td>Logic20/20\\n3.8</td>\n",
       "      <td>San Jose, CA</td>\n",
       "      <td>Seattle, WA</td>\n",
       "      <td>201 to 500 employees</td>\n",
       "      <td>2005</td>\n",
       "      <td>Company - Private</td>\n",
       "      <td>Consulting</td>\n",
       "      <td>Business Services</td>\n",
       "      <td>$25 to $50 million (USD)</td>\n",
       "      <td>-1</td>\n",
       "    </tr>\n",
       "    <tr>\n",
       "      <th>8</th>\n",
       "      <td>8</td>\n",
       "      <td>Research Scientist</td>\n",
       "      <td>$38K-$84K (Glassdoor est.)</td>\n",
       "      <td>SUMMARY\\n\\nThe Research Scientist I will be ta...</td>\n",
       "      <td>3.3</td>\n",
       "      <td>Rochester Regional Health\\n3.3</td>\n",
       "      <td>Rochester, NY</td>\n",
       "      <td>Rochester, NY</td>\n",
       "      <td>10000+ employees</td>\n",
       "      <td>2014</td>\n",
       "      <td>Hospital</td>\n",
       "      <td>Health Care Services &amp; Hospitals</td>\n",
       "      <td>Health Care</td>\n",
       "      <td>$500 million to $1 billion (USD)</td>\n",
       "      <td>-1</td>\n",
       "    </tr>\n",
       "    <tr>\n",
       "      <th>9</th>\n",
       "      <td>9</td>\n",
       "      <td>Data Scientist</td>\n",
       "      <td>$120K-$160K (Glassdoor est.)</td>\n",
       "      <td>isn’t your usual company. Our work is powered ...</td>\n",
       "      <td>4.6</td>\n",
       "      <td>&lt;intent&gt;\\n4.6</td>\n",
       "      <td>New York, NY</td>\n",
       "      <td>New York, NY</td>\n",
       "      <td>51 to 200 employees</td>\n",
       "      <td>2009</td>\n",
       "      <td>Company - Private</td>\n",
       "      <td>Internet</td>\n",
       "      <td>Information Technology</td>\n",
       "      <td>$100 to $500 million (USD)</td>\n",
       "      <td>Clicktripz, SmarterTravel</td>\n",
       "    </tr>\n",
       "  </tbody>\n",
       "</table>\n",
       "</div>"
      ],
      "text/plain": [
       "   Unnamed: 0                  Job Title               Salary Estimate  \\\n",
       "0           0             Data Scientist    $53K-$91K (Glassdoor est.)   \n",
       "1           1  Healthcare Data Scientist   $63K-$112K (Glassdoor est.)   \n",
       "2           2             Data Scientist    $80K-$90K (Glassdoor est.)   \n",
       "3           3             Data Scientist    $56K-$97K (Glassdoor est.)   \n",
       "4           4             Data Scientist   $86K-$143K (Glassdoor est.)   \n",
       "5           5             Data Scientist   $71K-$119K (Glassdoor est.)   \n",
       "6           6             Data Scientist    $54K-$93K (Glassdoor est.)   \n",
       "7           7             Data Scientist   $86K-$142K (Glassdoor est.)   \n",
       "8           8         Research Scientist    $38K-$84K (Glassdoor est.)   \n",
       "9           9             Data Scientist  $120K-$160K (Glassdoor est.)   \n",
       "\n",
       "                                     Job Description  Rating  \\\n",
       "0  Data Scientist\\nLocation: Albuquerque, NM\\nEdu...     3.8   \n",
       "1  What You Will Do:\\n\\nI. General Summary\\n\\nThe...     3.4   \n",
       "2  KnowBe4, Inc. is a high growth information sec...     4.8   \n",
       "3  *Organization and Job ID**\\nJob ID: 310709\\n\\n...     3.8   \n",
       "4  Data Scientist\\nAffinity Solutions / Marketing...     2.9   \n",
       "5  CyrusOne is seeking a talented Data Scientist ...     3.4   \n",
       "6  Job Description\\n\\n**Please only local candida...     4.1   \n",
       "7  Advanced Analytics – Lead Data Scientist\\nOver...     3.8   \n",
       "8  SUMMARY\\n\\nThe Research Scientist I will be ta...     3.3   \n",
       "9  isn’t your usual company. Our work is powered ...     4.6   \n",
       "\n",
       "                                 Company Name         Location  \\\n",
       "0                      Tecolote Research\\n3.8  Albuquerque, NM   \n",
       "1  University of Maryland Medical System\\n3.4    Linthicum, MD   \n",
       "2                                KnowBe4\\n4.8   Clearwater, FL   \n",
       "3                                   PNNL\\n3.8     Richland, WA   \n",
       "4                     Affinity Solutions\\n2.9     New York, NY   \n",
       "5                               CyrusOne\\n3.4       Dallas, TX   \n",
       "6                     ClearOne Advantage\\n4.1    Baltimore, MD   \n",
       "7                             Logic20/20\\n3.8     San Jose, CA   \n",
       "8              Rochester Regional Health\\n3.3    Rochester, NY   \n",
       "9                               <intent>\\n4.6     New York, NY   \n",
       "\n",
       "     Headquarters                    Size  Founded   Type of ownership  \\\n",
       "0      Goleta, CA   501 to 1000 employees     1973   Company - Private   \n",
       "1   Baltimore, MD        10000+ employees     1984  Other Organization   \n",
       "2  Clearwater, FL   501 to 1000 employees     2010   Company - Private   \n",
       "3    Richland, WA  1001 to 5000 employees     1965          Government   \n",
       "4    New York, NY     51 to 200 employees     1998   Company - Private   \n",
       "5      Dallas, TX    201 to 500 employees     2000    Company - Public   \n",
       "6   Baltimore, MD   501 to 1000 employees     2008   Company - Private   \n",
       "7     Seattle, WA    201 to 500 employees     2005   Company - Private   \n",
       "8   Rochester, NY        10000+ employees     2014            Hospital   \n",
       "9    New York, NY     51 to 200 employees     2009   Company - Private   \n",
       "\n",
       "                           Industry                        Sector  \\\n",
       "0               Aerospace & Defense           Aerospace & Defense   \n",
       "1  Health Care Services & Hospitals                   Health Care   \n",
       "2                 Security Services             Business Services   \n",
       "3                            Energy  Oil, Gas, Energy & Utilities   \n",
       "4           Advertising & Marketing             Business Services   \n",
       "5                       Real Estate                   Real Estate   \n",
       "6             Banks & Credit Unions                       Finance   \n",
       "7                        Consulting             Business Services   \n",
       "8  Health Care Services & Hospitals                   Health Care   \n",
       "9                          Internet        Information Technology   \n",
       "\n",
       "                            Revenue  \\\n",
       "0         $50 to $100 million (USD)   \n",
       "1            $2 to $5 billion (USD)   \n",
       "2        $100 to $500 million (USD)   \n",
       "3  $500 million to $1 billion (USD)   \n",
       "4          Unknown / Non-Applicable   \n",
       "5            $1 to $2 billion (USD)   \n",
       "6          Unknown / Non-Applicable   \n",
       "7          $25 to $50 million (USD)   \n",
       "8  $500 million to $1 billion (USD)   \n",
       "9        $100 to $500 million (USD)   \n",
       "\n",
       "                                         Competitors  \n",
       "0                                                 -1  \n",
       "1                                                 -1  \n",
       "2                                                 -1  \n",
       "3  Oak Ridge National Laboratory, National Renewa...  \n",
       "4               Commerce Signals, Cardlytics, Yodlee  \n",
       "5                  Digital Realty, CoreSite, Equinix  \n",
       "6                                                 -1  \n",
       "7                                                 -1  \n",
       "8                                                 -1  \n",
       "9                          Clicktripz, SmarterTravel  "
      ]
     },
     "execution_count": 4,
     "metadata": {},
     "output_type": "execute_result"
    }
   ],
   "source": [
    "df.head(10)"
   ]
  },
  {
   "cell_type": "markdown",
   "id": "4b056ae4",
   "metadata": {},
   "source": [
    "# *salary parsing*\n"
   ]
  },
  {
   "cell_type": "code",
   "execution_count": 5,
   "id": "58d3edf8",
   "metadata": {},
   "outputs": [],
   "source": [
    "\n",
    "\n",
    "\n",
    "df=df[df['Salary Estimate']!= '-1']"
   ]
  },
  {
   "cell_type": "code",
   "execution_count": 6,
   "id": "e2364fa9",
   "metadata": {},
   "outputs": [],
   "source": [
    "salary=df['Salary Estimate'].apply(lambda x:x.split('(')[0])"
   ]
  },
  {
   "cell_type": "code",
   "execution_count": 7,
   "id": "9dbd3806",
   "metadata": {},
   "outputs": [],
   "source": [
    "#remove K's & Dollar sign\n",
    "minus_KDs=salary.apply(lambda x:x.replace('K',' ').replace('$',' '))"
   ]
  },
  {
   "cell_type": "code",
   "execution_count": 8,
   "id": "1fad2e50",
   "metadata": {},
   "outputs": [],
   "source": [
    "# all salary cases with 'per hour in them'\n",
    "df['hourly']=df['Salary Estimate'].apply(lambda x: 1 if 'per hour' in x.lower() else 0)"
   ]
  },
  {
   "cell_type": "code",
   "execution_count": 12,
   "id": "7972b6ff",
   "metadata": {},
   "outputs": [
    {
     "data": {
      "text/plain": [
       "24"
      ]
     },
     "execution_count": 12,
     "metadata": {},
     "output_type": "execute_result"
    }
   ],
   "source": [
    "df['hourly'].sum()"
   ]
  },
  {
   "cell_type": "code",
   "execution_count": 13,
   "id": "b62a3d86",
   "metadata": {},
   "outputs": [],
   "source": [
    "#all cases with 'employer provided' in them \n",
    "df['employer provided']=df['Salary Estimate'].apply(lambda x: 1 if 'employer provided salary:' in x.lower() else 0)"
   ]
  },
  {
   "cell_type": "code",
   "execution_count": 16,
   "id": "eb2c5cd9",
   "metadata": {},
   "outputs": [],
   "source": [
    "min_hr=minus_KDs.apply(lambda x:x.lower().replace('per hour',\" \").replace('employer provided salary:',\" \"))"
   ]
  },
  {
   "cell_type": "code",
   "execution_count": 18,
   "id": "066f5d3b",
   "metadata": {},
   "outputs": [],
   "source": [
    "df['min_salary']=min_hr.apply(lambda x:int(x.split('-')[0]))\n",
    "df['max_salary']=min_hr.apply(lambda x:int(x.split('-')[1]))"
   ]
  },
  {
   "cell_type": "code",
   "execution_count": 23,
   "id": "4eb34ecf",
   "metadata": {},
   "outputs": [],
   "source": [
    "df['avg_salary']=(df.min_salary+df.max_salary)/2"
   ]
  },
  {
   "cell_type": "markdown",
   "id": "53dde196",
   "metadata": {},
   "source": [
    "# *company name text only*"
   ]
  },
  {
   "cell_type": "code",
   "execution_count": 25,
   "id": "16bc167b",
   "metadata": {},
   "outputs": [],
   "source": [
    "df['company_txt']=df.apply(lambda x: x['Company Name'] if x['Rating']<0 else x['Company Name'][:-3],axis=1)"
   ]
  },
  {
   "cell_type": "markdown",
   "id": "7f7ff7c5",
   "metadata": {},
   "source": [
    "# *state field*\n"
   ]
  },
  {
   "cell_type": "code",
   "execution_count": 26,
   "id": "3ae42c52",
   "metadata": {},
   "outputs": [],
   "source": [
    "df['job_state']=df.Location.apply(lambda x: x.split(',')[1])"
   ]
  },
  {
   "cell_type": "code",
   "execution_count": 27,
   "id": "05aa7427",
   "metadata": {},
   "outputs": [],
   "source": [
    "df['same_state']=df.apply(lambda x: 1 if x.Location==x.Headquarters else 0,axis =1)"
   ]
  },
  {
   "cell_type": "markdown",
   "id": "a11dcd2b",
   "metadata": {},
   "source": [
    "#  *company age*"
   ]
  },
  {
   "cell_type": "code",
   "execution_count": 28,
   "id": "7ad57b2f",
   "metadata": {},
   "outputs": [],
   "source": [
    "df['company_age']=df.Founded.apply(lambda x: x if x<1 else 2023-x)"
   ]
  },
  {
   "cell_type": "markdown",
   "id": "874c6587",
   "metadata": {},
   "source": [
    "\n",
    "# *parsing of job description*"
   ]
  },
  {
   "cell_type": "code",
   "execution_count": 29,
   "id": "bb619f5f",
   "metadata": {},
   "outputs": [],
   "source": [
    "df['python']=df['Job Description'].apply(lambda x: 1 if 'python'in x.lower() else 0)\n",
    "df['r-studio']=df['Job Description'].apply(lambda x: 1 if 'r-studio'in x.lower() else 0)\n",
    "df['spark']=df['Job Description'].apply(lambda x: 1 if 'spark'in x.lower() else 0)\n",
    "df['aws']=df['Job Description'].apply(lambda x: 1 if 'aws'in x.lower() else 0)\n",
    "df['excel']=df['Job Description'].apply(lambda x: 1 if 'excel'in x.lower() else 0)"
   ]
  },
  {
   "cell_type": "code",
   "execution_count": 32,
   "id": "87adfc72",
   "metadata": {},
   "outputs": [
    {
     "data": {
      "text/plain": [
       "1    388\n",
       "0    354\n",
       "Name: excel, dtype: int64"
      ]
     },
     "execution_count": 32,
     "metadata": {},
     "output_type": "execute_result"
    }
   ],
   "source": [
    "df.excel.value_counts()"
   ]
  },
  {
   "cell_type": "code",
   "execution_count": 33,
   "id": "dfb44ba5",
   "metadata": {},
   "outputs": [
    {
     "data": {
      "text/plain": [
       "1    392\n",
       "0    350\n",
       "Name: python, dtype: int64"
      ]
     },
     "execution_count": 33,
     "metadata": {},
     "output_type": "execute_result"
    }
   ],
   "source": [
    "df.python.value_counts()"
   ]
  },
  {
   "cell_type": "code",
   "execution_count": 35,
   "id": "a59ddef8",
   "metadata": {},
   "outputs": [
    {
     "data": {
      "text/plain": [
       "0    741\n",
       "1      1\n",
       "Name: r-studio, dtype: int64"
      ]
     },
     "execution_count": 35,
     "metadata": {},
     "output_type": "execute_result"
    }
   ],
   "source": [
    "df['r-studio'].value_counts()"
   ]
  },
  {
   "cell_type": "code",
   "execution_count": 36,
   "id": "89db9ff0",
   "metadata": {},
   "outputs": [
    {
     "data": {
      "text/plain": [
       "Index(['Unnamed: 0', 'Job Title', 'Salary Estimate', 'Job Description',\n",
       "       'Rating', 'Company Name', 'Location', 'Headquarters', 'Size', 'Founded',\n",
       "       'Type of ownership', 'Industry', 'Sector', 'Revenue', 'Competitors',\n",
       "       'hourly', 'employer provided', 'min_salary', 'max_salary', 'avg_salary',\n",
       "       'company_txt', 'job_state', 'same_state', 'company_age', 'python',\n",
       "       'r-studio', 'spark', 'aws', 'excel'],\n",
       "      dtype='object')"
      ]
     },
     "execution_count": 36,
     "metadata": {},
     "output_type": "execute_result"
    }
   ],
   "source": [
    "df.columns"
   ]
  },
  {
   "cell_type": "code",
   "execution_count": 38,
   "id": "d0a91e53",
   "metadata": {},
   "outputs": [],
   "source": [
    "df_output=df.drop('Unnamed: 0',axis=1)"
   ]
  },
  {
   "cell_type": "code",
   "execution_count": 39,
   "id": "0f6d8b1b",
   "metadata": {},
   "outputs": [],
   "source": [
    "df_output.to_csv('Cleaned_salary_data.csv',index=False)"
   ]
  },
  {
   "cell_type": "code",
   "execution_count": null,
   "id": "fed7027f",
   "metadata": {},
   "outputs": [],
   "source": []
  }
 ],
 "metadata": {
  "kernelspec": {
   "display_name": "Python 3 (ipykernel)",
   "language": "python",
   "name": "python3"
  },
  "language_info": {
   "codemirror_mode": {
    "name": "ipython",
    "version": 3
   },
   "file_extension": ".py",
   "mimetype": "text/x-python",
   "name": "python",
   "nbconvert_exporter": "python",
   "pygments_lexer": "ipython3",
   "version": "3.8.16"
  }
 },
 "nbformat": 4,
 "nbformat_minor": 5
}
